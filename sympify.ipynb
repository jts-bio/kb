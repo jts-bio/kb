{
 "cells": [
  {
   "cell_type": "code",
   "execution_count": 52,
   "metadata": {},
   "outputs": [],
   "source": [
    "import sympy as sp\n",
    "from IPython.display import Markdown, display"
   ]
  },
  {
   "cell_type": "code",
   "execution_count": 53,
   "metadata": {},
   "outputs": [],
   "source": [
    "lam , sig , x , h3o , oh , pH = sp.symbols(\"lambda sigma x [H_{3}O^+] [OH^{-}] pH\")\n",
    "\n",
    "SYMBOLS = {\n",
    "   \"lam\" : lam , \n",
    "   \"sig\": sig ,\n",
    "   \"h3o\" : h3o ,\n",
    "   \"oh\" : oh\n",
    "}\n",
    "\n",
    "def eqSym (left:str,right:str,symb_dict:dict=SYMBOLS):\n",
    "   \"\"\"DEFINE AN EQUATION\"\"\"\n",
    "   return sp.Eq (sp.sympify(left,locals=symb_dict),sp.sympify (right,locals=symb_dict))\n",
    "\n",
    "def getSymbs (expr):\n",
    "   list_ = []\n",
    "   for x in expr.free_symbols:\n",
    "      list_.append(\"$\" + x.to_latex + \"$\")\n",
    "      display(Markdown(str(list_)))"
   ]
  },
  {
   "cell_type": "code",
   "execution_count": 10,
   "metadata": {},
   "outputs": [
    {
     "data": {
      "text/latex": [
       "$\\displaystyle [H_{3}O^+] + 3 x^{2} = 3 \\sigma$"
      ],
      "text/plain": [
       "Eq([H_{3}O^+] + 3*x**2, 3*sigma)"
      ]
     },
     "execution_count": 10,
     "metadata": {},
     "output_type": "execute_result"
    }
   ],
   "source": [
    "EQ = eqSym (\"3 * x^2 + h3o\", \"3 * sig\")\n",
    "EQ"
   ]
  },
  {
   "cell_type": "code",
   "execution_count": 11,
   "metadata": {},
   "outputs": [
    {
     "data": {
      "text/latex": [
       "$\\displaystyle \\frac{[H_{3}O^+]}{3} + x^{2}$"
      ],
      "text/plain": [
       "[H_{3}O^+]/3 + x**2"
      ]
     },
     "metadata": {},
     "output_type": "display_data"
    }
   ],
   "source": [
    "EQ.subs({sig:45})\n",
    "ANS = sp.solve(EQ,sig)\n",
    "for x in ANS:\n",
    "   display(x)"
   ]
  },
  {
   "cell_type": "code",
   "execution_count": 54,
   "metadata": {},
   "outputs": [
    {
     "data": {
      "text/plain": [
       "'EQUATIONS'"
      ]
     },
     "metadata": {},
     "output_type": "display_data"
    },
    {
     "data": {
      "text/latex": [
       "$\\displaystyle [H_{3}O^+] + [OH^{-}] = 14$"
      ],
      "text/plain": [
       "Eq([H_{3}O^+] + [OH^{-}], 14)"
      ]
     },
     "metadata": {},
     "output_type": "display_data"
    },
    {
     "data": {
      "text/latex": [
       "$\\displaystyle pH = - \\log{\\left([H_{3}O^+] \\right)}$"
      ],
      "text/plain": [
       "Eq(pH, -log([H_{3}O^+]))"
      ]
     },
     "metadata": {},
     "output_type": "display_data"
    },
    {
     "data": {
      "text/plain": [
       "'SOLVE THE H3O/OH EQ. FOE H3O='"
      ]
     },
     "metadata": {},
     "output_type": "display_data"
    },
    {
     "data": {
      "text/latex": [
       "$\\displaystyle 14 - [OH^{-}]$"
      ],
      "text/plain": [
       "14 - [OH^{-}]"
      ]
     },
     "metadata": {},
     "output_type": "display_data"
    },
    {
     "ename": "AttributeError",
     "evalue": "'Symbol' object has no attribute 'to_latex'",
     "output_type": "error",
     "traceback": [
      "\u001b[0;31m---------------------------------------------------------------------------\u001b[0m",
      "\u001b[0;31mAttributeError\u001b[0m                            Traceback (most recent call last)",
      "\u001b[1;32m/workspaces/kb/sympify.ipynb Cell 5'\u001b[0m in \u001b[0;36m<cell line: 7>\u001b[0;34m()\u001b[0m\n\u001b[1;32m      <a href='vscode-notebook-cell://codespaces%2Bjsteinbecker-jts-bio-kb-7vwxq47x6hpp44/workspaces/kb/sympify.ipynb#ch0000005vscode-remote?line=1'>2</a>\u001b[0m EQ_PH \u001b[39m=\u001b[39m eqSym(\u001b[39m\"\u001b[39m\u001b[39mpH\u001b[39m\u001b[39m\"\u001b[39m, \u001b[39m\"\u001b[39m\u001b[39m- log (h3o)\u001b[39m\u001b[39m\"\u001b[39m)           ;display(EQ_PH)\n\u001b[1;32m      <a href='vscode-notebook-cell://codespaces%2Bjsteinbecker-jts-bio-kb-7vwxq47x6hpp44/workspaces/kb/sympify.ipynb#ch0000005vscode-remote?line=2'>3</a>\u001b[0m display(\n\u001b[1;32m      <a href='vscode-notebook-cell://codespaces%2Bjsteinbecker-jts-bio-kb-7vwxq47x6hpp44/workspaces/kb/sympify.ipynb#ch0000005vscode-remote?line=3'>4</a>\u001b[0m    \u001b[39m\"\u001b[39m\u001b[39mSOLVE THE H3O/OH EQ. FOE H3O=\u001b[39m\u001b[39m\"\u001b[39m,\n\u001b[1;32m      <a href='vscode-notebook-cell://codespaces%2Bjsteinbecker-jts-bio-kb-7vwxq47x6hpp44/workspaces/kb/sympify.ipynb#ch0000005vscode-remote?line=4'>5</a>\u001b[0m    sp\u001b[39m.\u001b[39msolve (EQ_H3O_OH , h3o)[\u001b[39m0\u001b[39m]\n\u001b[1;32m      <a href='vscode-notebook-cell://codespaces%2Bjsteinbecker-jts-bio-kb-7vwxq47x6hpp44/workspaces/kb/sympify.ipynb#ch0000005vscode-remote?line=5'>6</a>\u001b[0m )\n\u001b[0;32m----> <a href='vscode-notebook-cell://codespaces%2Bjsteinbecker-jts-bio-kb-7vwxq47x6hpp44/workspaces/kb/sympify.ipynb#ch0000005vscode-remote?line=6'>7</a>\u001b[0m getSymbs (EQ_H3O_OH)\n",
      "\u001b[1;32m/workspaces/kb/sympify.ipynb Cell 2'\u001b[0m in \u001b[0;36mgetSymbs\u001b[0;34m(expr)\u001b[0m\n\u001b[1;32m     <a href='vscode-notebook-cell://codespaces%2Bjsteinbecker-jts-bio-kb-7vwxq47x6hpp44/workspaces/kb/sympify.ipynb#ch0000001vscode-remote?line=14'>15</a>\u001b[0m list_ \u001b[39m=\u001b[39m []\n\u001b[1;32m     <a href='vscode-notebook-cell://codespaces%2Bjsteinbecker-jts-bio-kb-7vwxq47x6hpp44/workspaces/kb/sympify.ipynb#ch0000001vscode-remote?line=15'>16</a>\u001b[0m \u001b[39mfor\u001b[39;00m x \u001b[39min\u001b[39;00m expr\u001b[39m.\u001b[39mfree_symbols:\n\u001b[0;32m---> <a href='vscode-notebook-cell://codespaces%2Bjsteinbecker-jts-bio-kb-7vwxq47x6hpp44/workspaces/kb/sympify.ipynb#ch0000001vscode-remote?line=16'>17</a>\u001b[0m    list_\u001b[39m.\u001b[39mappend(\u001b[39m\"\u001b[39m\u001b[39m$\u001b[39m\u001b[39m\"\u001b[39m \u001b[39m+\u001b[39m x\u001b[39m.\u001b[39;49mto_latex \u001b[39m+\u001b[39m \u001b[39m\"\u001b[39m\u001b[39m$\u001b[39m\u001b[39m\"\u001b[39m)\n\u001b[1;32m     <a href='vscode-notebook-cell://codespaces%2Bjsteinbecker-jts-bio-kb-7vwxq47x6hpp44/workspaces/kb/sympify.ipynb#ch0000001vscode-remote?line=17'>18</a>\u001b[0m    display(Markdown(\u001b[39mstr\u001b[39m(list_)))\n",
      "\u001b[0;31mAttributeError\u001b[0m: 'Symbol' object has no attribute 'to_latex'"
     ]
    }
   ],
   "source": [
    "EQ_H3O_OH = eqSym(\"h3o + oh\", \"14\")          ;display(\"EQUATIONS\",EQ_H3O_OH)\n",
    "EQ_PH = eqSym(\"pH\", \"- log (h3o)\")           ;display(EQ_PH)\n",
    "display(\n",
    "   \"SOLVE THE H3O/OH EQ. FOE H3O=\",\n",
    "   sp.solve (EQ_H3O_OH , h3o)[0]\n",
    ")\n",
    "getSymbs (EQ_H3O_OH)"
   ]
  },
  {
   "cell_type": "code",
   "execution_count": 58,
   "metadata": {},
   "outputs": [
    {
     "ename": "AttributeError",
     "evalue": "'Symbol' object has no attribute '__repr_latex__'",
     "output_type": "error",
     "traceback": [
      "\u001b[0;31m---------------------------------------------------------------------------\u001b[0m",
      "\u001b[0;31mAttributeError\u001b[0m                            Traceback (most recent call last)",
      "\u001b[1;32m/workspaces/kb/sympify.ipynb Cell 6'\u001b[0m in \u001b[0;36m<cell line: 1>\u001b[0;34m()\u001b[0m\n\u001b[0;32m----> <a href='vscode-notebook-cell://codespaces%2Bjsteinbecker-jts-bio-kb-7vwxq47x6hpp44/workspaces/kb/sympify.ipynb#ch0000007vscode-remote?line=0'>1</a>\u001b[0m h3o\u001b[39m.\u001b[39;49m__repr_latex__\n",
      "\u001b[0;31mAttributeError\u001b[0m: 'Symbol' object has no attribute '__repr_latex__'"
     ]
    }
   ],
   "source": []
  },
  {
   "cell_type": "code",
   "execution_count": null,
   "metadata": {},
   "outputs": [],
   "source": []
  }
 ],
 "metadata": {
  "interpreter": {
   "hash": "8ba668d9f4c2546ae6edbb30331ec98a26e96e9945d75ec91346baace7a84f04"
  },
  "kernelspec": {
   "display_name": "Python 3.8.12 ('.venv': venv)",
   "language": "python",
   "name": "python3"
  },
  "language_info": {
   "codemirror_mode": {
    "name": "ipython",
    "version": 3
   },
   "file_extension": ".py",
   "mimetype": "text/x-python",
   "name": "python",
   "nbconvert_exporter": "python",
   "pygments_lexer": "ipython3",
   "version": "3.8.12"
  },
  "orig_nbformat": 4
 },
 "nbformat": 4,
 "nbformat_minor": 2
}
